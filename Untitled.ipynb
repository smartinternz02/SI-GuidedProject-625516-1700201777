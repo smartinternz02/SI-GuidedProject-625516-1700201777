{
 "cells": [
  {
   "cell_type": "code",
   "execution_count": 2,
   "id": "958935a1",
   "metadata": {},
   "outputs": [
    {
     "data": {
      "text/html": [
       "<div>\n",
       "<style scoped>\n",
       "    .dataframe tbody tr th:only-of-type {\n",
       "        vertical-align: middle;\n",
       "    }\n",
       "\n",
       "    .dataframe tbody tr th {\n",
       "        vertical-align: top;\n",
       "    }\n",
       "\n",
       "    .dataframe thead th {\n",
       "        text-align: right;\n",
       "    }\n",
       "</style>\n",
       "<table border=\"1\" class=\"dataframe\">\n",
       "  <thead>\n",
       "    <tr style=\"text-align: right;\">\n",
       "      <th></th>\n",
       "      <th>Timestamp</th>\n",
       "      <th>User_ID</th>\n",
       "      <th>Application_Type</th>\n",
       "      <th>Signal_Strength</th>\n",
       "      <th>Latency</th>\n",
       "      <th>Required_Bandwidth</th>\n",
       "      <th>Allocated_Bandwidth</th>\n",
       "      <th>Resource_Allocation</th>\n",
       "    </tr>\n",
       "  </thead>\n",
       "  <tbody>\n",
       "    <tr>\n",
       "      <th>0</th>\n",
       "      <td>9/3/2023 10:00</td>\n",
       "      <td>User_1</td>\n",
       "      <td>Video_Call</td>\n",
       "      <td>-75 dBm</td>\n",
       "      <td>30 ms</td>\n",
       "      <td>10 Mbps</td>\n",
       "      <td>15 Mbps</td>\n",
       "      <td>70%</td>\n",
       "    </tr>\n",
       "    <tr>\n",
       "      <th>1</th>\n",
       "      <td>9/3/2023 10:00</td>\n",
       "      <td>User_2</td>\n",
       "      <td>Voice_Call</td>\n",
       "      <td>-80 dBm</td>\n",
       "      <td>20 ms</td>\n",
       "      <td>100 Kbps</td>\n",
       "      <td>120 Kbps</td>\n",
       "      <td>80%</td>\n",
       "    </tr>\n",
       "    <tr>\n",
       "      <th>2</th>\n",
       "      <td>9/3/2023 10:00</td>\n",
       "      <td>User_3</td>\n",
       "      <td>Streaming</td>\n",
       "      <td>-85 dBm</td>\n",
       "      <td>40 ms</td>\n",
       "      <td>5 Mbps</td>\n",
       "      <td>6 Mbps</td>\n",
       "      <td>75%</td>\n",
       "    </tr>\n",
       "    <tr>\n",
       "      <th>3</th>\n",
       "      <td>9/3/2023 10:00</td>\n",
       "      <td>User_4</td>\n",
       "      <td>Emergency_Service</td>\n",
       "      <td>-70 dBm</td>\n",
       "      <td>10 ms</td>\n",
       "      <td>1 Mbps</td>\n",
       "      <td>1.5 Mbps</td>\n",
       "      <td>90%</td>\n",
       "    </tr>\n",
       "    <tr>\n",
       "      <th>4</th>\n",
       "      <td>9/3/2023 10:00</td>\n",
       "      <td>User_5</td>\n",
       "      <td>Online_Gaming</td>\n",
       "      <td>-78 dBm</td>\n",
       "      <td>25 ms</td>\n",
       "      <td>2 Mbps</td>\n",
       "      <td>3 Mbps</td>\n",
       "      <td>85%</td>\n",
       "    </tr>\n",
       "  </tbody>\n",
       "</table>\n",
       "</div>"
      ],
      "text/plain": [
       "        Timestamp User_ID   Application_Type Signal_Strength Latency  \\\n",
       "0  9/3/2023 10:00  User_1         Video_Call         -75 dBm   30 ms   \n",
       "1  9/3/2023 10:00  User_2         Voice_Call         -80 dBm   20 ms   \n",
       "2  9/3/2023 10:00  User_3          Streaming         -85 dBm   40 ms   \n",
       "3  9/3/2023 10:00  User_4  Emergency_Service         -70 dBm   10 ms   \n",
       "4  9/3/2023 10:00  User_5      Online_Gaming         -78 dBm   25 ms   \n",
       "\n",
       "  Required_Bandwidth Allocated_Bandwidth Resource_Allocation  \n",
       "0            10 Mbps             15 Mbps                 70%  \n",
       "1           100 Kbps            120 Kbps                 80%  \n",
       "2             5 Mbps              6 Mbps                 75%  \n",
       "3             1 Mbps            1.5 Mbps                 90%  \n",
       "4             2 Mbps              3 Mbps                 85%  "
      ]
     },
     "execution_count": 2,
     "metadata": {},
     "output_type": "execute_result"
    }
   ],
   "source": [
    "import pandas as pd\n",
    "data = pd.read_csv('./data/Quality of Service 5G.csv')\n",
    "data.head()"
   ]
  },
  {
   "cell_type": "code",
   "execution_count": 3,
   "id": "775e67f9",
   "metadata": {},
   "outputs": [
    {
     "data": {
      "text/plain": [
       "Timestamp              False\n",
       "User_ID                False\n",
       "Application_Type       False\n",
       "Signal_Strength        False\n",
       "Latency                False\n",
       "Required_Bandwidth     False\n",
       "Allocated_Bandwidth    False\n",
       "Resource_Allocation    False\n",
       "dtype: bool"
      ]
     },
     "execution_count": 3,
     "metadata": {},
     "output_type": "execute_result"
    }
   ],
   "source": [
    "data.isnull().any()"
   ]
  },
  {
   "cell_type": "code",
   "execution_count": 4,
   "id": "1b875b86",
   "metadata": {},
   "outputs": [
    {
     "data": {
      "text/plain": [
       "array(['Video_Call', 'Voice_Call', 'Streaming', 'Emergency_Service',\n",
       "       'Online_Gaming', 'Background_Download', 'Web_Browsing',\n",
       "       'IoT_Temperature', 'Video_Streaming', 'File_Download', 'VoIP_Call'],\n",
       "      dtype=object)"
      ]
     },
     "execution_count": 4,
     "metadata": {},
     "output_type": "execute_result"
    }
   ],
   "source": [
    "number = data['Application_Type'].unique()\n",
    "len(number)\n",
    "number"
   ]
  },
  {
   "cell_type": "code",
   "execution_count": 5,
   "id": "f36b8be0",
   "metadata": {},
   "outputs": [
    {
     "data": {
      "text/plain": [
       "0        User_1\n",
       "1        User_2\n",
       "2        User_3\n",
       "3        User_4\n",
       "4        User_5\n",
       "         ...   \n",
       "395    User_396\n",
       "396    User_397\n",
       "397    User_398\n",
       "398    User_399\n",
       "399    User_400\n",
       "Name: User_ID, Length: 400, dtype: object"
      ]
     },
     "execution_count": 5,
     "metadata": {},
     "output_type": "execute_result"
    }
   ],
   "source": [
    "data['User_ID']"
   ]
  },
  {
   "cell_type": "code",
   "execution_count": 6,
   "id": "31648678",
   "metadata": {},
   "outputs": [
    {
     "data": {
      "text/plain": [
       "array(['9/3/2023 10:00', '9/3/2023 10:01', '9/3/2023 10:02',\n",
       "       '9/3/2023 10:03', '9/3/2023 10:04', '9/3/2023 10:05',\n",
       "       '9/3/2023 10:06'], dtype=object)"
      ]
     },
     "execution_count": 6,
     "metadata": {},
     "output_type": "execute_result"
    }
   ],
   "source": [
    "data['Timestamp'].unique()"
   ]
  },
  {
   "cell_type": "code",
   "execution_count": 7,
   "id": "652c0461",
   "metadata": {},
   "outputs": [
    {
     "data": {
      "text/plain": [
       "0        10 Mbps\n",
       "1       100 Kbps\n",
       "2         5 Mbps\n",
       "3         1 Mbps\n",
       "4         2 Mbps\n",
       "         ...    \n",
       "395     1.3 Mbps\n",
       "396    14.5 Mbps\n",
       "397     1.0 Mbps\n",
       "398     0.4 Mbps\n",
       "399     0.1 Mbps\n",
       "Name: Required_Bandwidth, Length: 400, dtype: object"
      ]
     },
     "execution_count": 7,
     "metadata": {},
     "output_type": "execute_result"
    }
   ],
   "source": [
    "data['Required_Bandwidth']"
   ]
  },
  {
   "cell_type": "code",
   "execution_count": 8,
   "id": "9caabee1",
   "metadata": {},
   "outputs": [
    {
     "data": {
      "text/plain": [
       "array(['Video_Call', 'Voice_Call', 'Streaming', 'Emergency_Service',\n",
       "       'Online_Gaming', 'Background_Download', 'Web_Browsing',\n",
       "       'IoT_Temperature', 'Video_Streaming', 'File_Download', 10],\n",
       "      dtype=object)"
      ]
     },
     "execution_count": 8,
     "metadata": {},
     "output_type": "execute_result"
    }
   ],
   "source": [
    "replacements = {'VoIP_Call':10}\n",
    "data.replace(replacements,inplace=True)\n",
    "data['Application_Type'].unique()"
   ]
  },
  {
   "cell_type": "code",
   "execution_count": 9,
   "id": "c4026d1e",
   "metadata": {},
   "outputs": [
    {
     "data": {
      "text/html": [
       "<div>\n",
       "<style scoped>\n",
       "    .dataframe tbody tr th:only-of-type {\n",
       "        vertical-align: middle;\n",
       "    }\n",
       "\n",
       "    .dataframe tbody tr th {\n",
       "        vertical-align: top;\n",
       "    }\n",
       "\n",
       "    .dataframe thead th {\n",
       "        text-align: right;\n",
       "    }\n",
       "</style>\n",
       "<table border=\"1\" class=\"dataframe\">\n",
       "  <thead>\n",
       "    <tr style=\"text-align: right;\">\n",
       "      <th></th>\n",
       "      <th>Timestamp</th>\n",
       "      <th>User_ID</th>\n",
       "      <th>Application_Type</th>\n",
       "      <th>Signal_Strength</th>\n",
       "      <th>Latency</th>\n",
       "      <th>Required_Bandwidth</th>\n",
       "      <th>Allocated_Bandwidth</th>\n",
       "      <th>Resource_Allocation</th>\n",
       "    </tr>\n",
       "  </thead>\n",
       "  <tbody>\n",
       "    <tr>\n",
       "      <th>0</th>\n",
       "      <td>9/3/2023 10:00</td>\n",
       "      <td>User_1</td>\n",
       "      <td>1</td>\n",
       "      <td>-75 dBm</td>\n",
       "      <td>30 ms</td>\n",
       "      <td>10 Mbps</td>\n",
       "      <td>15 Mbps</td>\n",
       "      <td>70%</td>\n",
       "    </tr>\n",
       "    <tr>\n",
       "      <th>1</th>\n",
       "      <td>9/3/2023 10:00</td>\n",
       "      <td>User_2</td>\n",
       "      <td>2</td>\n",
       "      <td>-80 dBm</td>\n",
       "      <td>20 ms</td>\n",
       "      <td>100 Kbps</td>\n",
       "      <td>120 Kbps</td>\n",
       "      <td>80%</td>\n",
       "    </tr>\n",
       "    <tr>\n",
       "      <th>2</th>\n",
       "      <td>9/3/2023 10:00</td>\n",
       "      <td>User_3</td>\n",
       "      <td>3</td>\n",
       "      <td>-85 dBm</td>\n",
       "      <td>40 ms</td>\n",
       "      <td>5 Mbps</td>\n",
       "      <td>6 Mbps</td>\n",
       "      <td>75%</td>\n",
       "    </tr>\n",
       "    <tr>\n",
       "      <th>3</th>\n",
       "      <td>9/3/2023 10:00</td>\n",
       "      <td>User_4</td>\n",
       "      <td>4</td>\n",
       "      <td>-70 dBm</td>\n",
       "      <td>10 ms</td>\n",
       "      <td>1 Mbps</td>\n",
       "      <td>1.5 Mbps</td>\n",
       "      <td>90%</td>\n",
       "    </tr>\n",
       "    <tr>\n",
       "      <th>4</th>\n",
       "      <td>9/3/2023 10:00</td>\n",
       "      <td>User_5</td>\n",
       "      <td>5</td>\n",
       "      <td>-78 dBm</td>\n",
       "      <td>25 ms</td>\n",
       "      <td>2 Mbps</td>\n",
       "      <td>3 Mbps</td>\n",
       "      <td>85%</td>\n",
       "    </tr>\n",
       "    <tr>\n",
       "      <th>...</th>\n",
       "      <td>...</td>\n",
       "      <td>...</td>\n",
       "      <td>...</td>\n",
       "      <td>...</td>\n",
       "      <td>...</td>\n",
       "      <td>...</td>\n",
       "      <td>...</td>\n",
       "      <td>...</td>\n",
       "    </tr>\n",
       "    <tr>\n",
       "      <th>395</th>\n",
       "      <td>9/3/2023 10:06</td>\n",
       "      <td>User_396</td>\n",
       "      <td>3</td>\n",
       "      <td>-110 dBm</td>\n",
       "      <td>61 ms</td>\n",
       "      <td>1.3 Mbps</td>\n",
       "      <td>1.8 Mbps</td>\n",
       "      <td>85%</td>\n",
       "    </tr>\n",
       "    <tr>\n",
       "      <th>396</th>\n",
       "      <td>9/3/2023 10:06</td>\n",
       "      <td>User_397</td>\n",
       "      <td>1</td>\n",
       "      <td>-40 dBm</td>\n",
       "      <td>53 ms</td>\n",
       "      <td>14.5 Mbps</td>\n",
       "      <td>15.8 Mbps</td>\n",
       "      <td>75%</td>\n",
       "    </tr>\n",
       "    <tr>\n",
       "      <th>397</th>\n",
       "      <td>9/3/2023 10:06</td>\n",
       "      <td>User_398</td>\n",
       "      <td>9</td>\n",
       "      <td>-113 dBm</td>\n",
       "      <td>58 ms</td>\n",
       "      <td>1.0 Mbps</td>\n",
       "      <td>1.4 Mbps</td>\n",
       "      <td>70%</td>\n",
       "    </tr>\n",
       "    <tr>\n",
       "      <th>398</th>\n",
       "      <td>9/3/2023 10:06</td>\n",
       "      <td>User_399</td>\n",
       "      <td>4</td>\n",
       "      <td>-40 dBm</td>\n",
       "      <td>5 ms</td>\n",
       "      <td>0.4 Mbps</td>\n",
       "      <td>0.4 Mbps</td>\n",
       "      <td>70%</td>\n",
       "    </tr>\n",
       "    <tr>\n",
       "      <th>399</th>\n",
       "      <td>9/3/2023 10:06</td>\n",
       "      <td>User_400</td>\n",
       "      <td>7</td>\n",
       "      <td>-113 dBm</td>\n",
       "      <td>0 ms</td>\n",
       "      <td>0.1 Mbps</td>\n",
       "      <td>0.1 Mbps</td>\n",
       "      <td>70%</td>\n",
       "    </tr>\n",
       "  </tbody>\n",
       "</table>\n",
       "<p>400 rows × 8 columns</p>\n",
       "</div>"
      ],
      "text/plain": [
       "          Timestamp   User_ID  Application_Type Signal_Strength Latency  \\\n",
       "0    9/3/2023 10:00    User_1                 1         -75 dBm   30 ms   \n",
       "1    9/3/2023 10:00    User_2                 2         -80 dBm   20 ms   \n",
       "2    9/3/2023 10:00    User_3                 3         -85 dBm   40 ms   \n",
       "3    9/3/2023 10:00    User_4                 4         -70 dBm   10 ms   \n",
       "4    9/3/2023 10:00    User_5                 5         -78 dBm   25 ms   \n",
       "..              ...       ...               ...             ...     ...   \n",
       "395  9/3/2023 10:06  User_396                 3        -110 dBm   61 ms   \n",
       "396  9/3/2023 10:06  User_397                 1         -40 dBm   53 ms   \n",
       "397  9/3/2023 10:06  User_398                 9        -113 dBm   58 ms   \n",
       "398  9/3/2023 10:06  User_399                 4         -40 dBm    5 ms   \n",
       "399  9/3/2023 10:06  User_400                 7        -113 dBm    0 ms   \n",
       "\n",
       "    Required_Bandwidth Allocated_Bandwidth Resource_Allocation  \n",
       "0              10 Mbps             15 Mbps                 70%  \n",
       "1             100 Kbps            120 Kbps                 80%  \n",
       "2               5 Mbps              6 Mbps                 75%  \n",
       "3               1 Mbps            1.5 Mbps                 90%  \n",
       "4               2 Mbps              3 Mbps                 85%  \n",
       "..                 ...                 ...                 ...  \n",
       "395           1.3 Mbps            1.8 Mbps                 85%  \n",
       "396          14.5 Mbps           15.8 Mbps                 75%  \n",
       "397           1.0 Mbps            1.4 Mbps                 70%  \n",
       "398           0.4 Mbps            0.4 Mbps                 70%  \n",
       "399           0.1 Mbps            0.1 Mbps                 70%  \n",
       "\n",
       "[400 rows x 8 columns]"
      ]
     },
     "execution_count": 9,
     "metadata": {},
     "output_type": "execute_result"
    }
   ],
   "source": [
    "replacements = {'Video_Call':1,'Voice_Call':2,'Streaming':3,'Emergency_Service':4,'Online_Gaming':5,'Background_Download':6,'Web_Browsing':7,'IoT_Temperature':8,'Video_Streaming':9,'File_Download':10}\n",
    "data.replace(replacements,inplace=True)\n",
    "data"
   ]
  },
  {
   "cell_type": "code",
   "execution_count": 10,
   "id": "ac82db5c",
   "metadata": {},
   "outputs": [
    {
     "data": {
      "text/plain": [
       "Application_Type\n",
       "1     58\n",
       "7     48\n",
       "3     47\n",
       "4     47\n",
       "6     47\n",
       "9     47\n",
       "10    47\n",
       "5     45\n",
       "8     13\n",
       "2      1\n",
       "Name: count, dtype: int64"
      ]
     },
     "execution_count": 10,
     "metadata": {},
     "output_type": "execute_result"
    }
   ],
   "source": [
    "data['Application_Type'].value_counts()"
   ]
  },
  {
   "cell_type": "code",
   "execution_count": 11,
   "id": "ddcc0a00",
   "metadata": {},
   "outputs": [],
   "source": [
    "\n",
    "data['Required_Bandwidth'] = data['Required_Bandwidth'].apply(lambda x: float(x.split()[0]) if 'Mbps' in x else float(x.split()[0])/1000)\n"
   ]
  },
  {
   "cell_type": "code",
   "execution_count": 12,
   "id": "19b82ead",
   "metadata": {},
   "outputs": [],
   "source": [
    "def cleaning(x):\n",
    "    if 'Mbps' in x:\n",
    "        return float(x.split()[0])\n",
    "    else:\n",
    "        return float(float(x.split()[0])/1000)\n",
    "data['Allocated_Bandwidth']=data['Allocated_Bandwidth'].apply(cleaning)"
   ]
  },
  {
   "cell_type": "code",
   "execution_count": 13,
   "id": "876e2887",
   "metadata": {},
   "outputs": [],
   "source": [
    "data['Latency']=data['Latency'].apply(lambda x:float(x.split()[0]) if 'ms' in x else float(x.split()[0]))"
   ]
  },
  {
   "cell_type": "code",
   "execution_count": 14,
   "id": "2343b04d",
   "metadata": {},
   "outputs": [],
   "source": [
    "data['Resource_Allocation']=data['Resource_Allocation'].apply(lambda x:int(x[:2]))"
   ]
  },
  {
   "cell_type": "code",
   "execution_count": 15,
   "id": "3e3d4c3c",
   "metadata": {},
   "outputs": [],
   "source": [
    "data['Signal_Strength']=data['Signal_Strength'].apply(lambda x :int(x.split()[0]))"
   ]
  },
  {
   "cell_type": "code",
   "execution_count": 16,
   "id": "e8460325",
   "metadata": {},
   "outputs": [
    {
     "data": {
      "text/html": [
       "<div>\n",
       "<style scoped>\n",
       "    .dataframe tbody tr th:only-of-type {\n",
       "        vertical-align: middle;\n",
       "    }\n",
       "\n",
       "    .dataframe tbody tr th {\n",
       "        vertical-align: top;\n",
       "    }\n",
       "\n",
       "    .dataframe thead th {\n",
       "        text-align: right;\n",
       "    }\n",
       "</style>\n",
       "<table border=\"1\" class=\"dataframe\">\n",
       "  <thead>\n",
       "    <tr style=\"text-align: right;\">\n",
       "      <th></th>\n",
       "      <th>Timestamp</th>\n",
       "      <th>User_ID</th>\n",
       "      <th>Application_Type</th>\n",
       "      <th>Signal_Strength</th>\n",
       "      <th>Latency</th>\n",
       "      <th>Required_Bandwidth</th>\n",
       "      <th>Allocated_Bandwidth</th>\n",
       "      <th>Resource_Allocation</th>\n",
       "    </tr>\n",
       "  </thead>\n",
       "  <tbody>\n",
       "    <tr>\n",
       "      <th>0</th>\n",
       "      <td>9/3/2023 10:00</td>\n",
       "      <td>User_1</td>\n",
       "      <td>1</td>\n",
       "      <td>-75</td>\n",
       "      <td>30.0</td>\n",
       "      <td>10.00</td>\n",
       "      <td>15.000</td>\n",
       "      <td>70</td>\n",
       "    </tr>\n",
       "    <tr>\n",
       "      <th>1</th>\n",
       "      <td>9/3/2023 10:00</td>\n",
       "      <td>User_2</td>\n",
       "      <td>2</td>\n",
       "      <td>-80</td>\n",
       "      <td>20.0</td>\n",
       "      <td>0.10</td>\n",
       "      <td>0.120</td>\n",
       "      <td>80</td>\n",
       "    </tr>\n",
       "    <tr>\n",
       "      <th>2</th>\n",
       "      <td>9/3/2023 10:00</td>\n",
       "      <td>User_3</td>\n",
       "      <td>3</td>\n",
       "      <td>-85</td>\n",
       "      <td>40.0</td>\n",
       "      <td>5.00</td>\n",
       "      <td>6.000</td>\n",
       "      <td>75</td>\n",
       "    </tr>\n",
       "    <tr>\n",
       "      <th>3</th>\n",
       "      <td>9/3/2023 10:00</td>\n",
       "      <td>User_4</td>\n",
       "      <td>4</td>\n",
       "      <td>-70</td>\n",
       "      <td>10.0</td>\n",
       "      <td>1.00</td>\n",
       "      <td>1.500</td>\n",
       "      <td>90</td>\n",
       "    </tr>\n",
       "    <tr>\n",
       "      <th>4</th>\n",
       "      <td>9/3/2023 10:00</td>\n",
       "      <td>User_5</td>\n",
       "      <td>5</td>\n",
       "      <td>-78</td>\n",
       "      <td>25.0</td>\n",
       "      <td>2.00</td>\n",
       "      <td>3.000</td>\n",
       "      <td>85</td>\n",
       "    </tr>\n",
       "    <tr>\n",
       "      <th>5</th>\n",
       "      <td>9/3/2023 10:00</td>\n",
       "      <td>User_6</td>\n",
       "      <td>6</td>\n",
       "      <td>-90</td>\n",
       "      <td>50.0</td>\n",
       "      <td>0.50</td>\n",
       "      <td>0.550</td>\n",
       "      <td>70</td>\n",
       "    </tr>\n",
       "    <tr>\n",
       "      <th>6</th>\n",
       "      <td>9/3/2023 10:00</td>\n",
       "      <td>User_7</td>\n",
       "      <td>7</td>\n",
       "      <td>-88</td>\n",
       "      <td>30.0</td>\n",
       "      <td>1.00</td>\n",
       "      <td>1.000</td>\n",
       "      <td>60</td>\n",
       "    </tr>\n",
       "    <tr>\n",
       "      <th>7</th>\n",
       "      <td>9/3/2023 10:00</td>\n",
       "      <td>User_8</td>\n",
       "      <td>8</td>\n",
       "      <td>-95</td>\n",
       "      <td>100.0</td>\n",
       "      <td>0.01</td>\n",
       "      <td>0.015</td>\n",
       "      <td>50</td>\n",
       "    </tr>\n",
       "    <tr>\n",
       "      <th>8</th>\n",
       "      <td>9/3/2023 10:00</td>\n",
       "      <td>User_9</td>\n",
       "      <td>9</td>\n",
       "      <td>-82</td>\n",
       "      <td>35.0</td>\n",
       "      <td>3.00</td>\n",
       "      <td>3.500</td>\n",
       "      <td>80</td>\n",
       "    </tr>\n",
       "    <tr>\n",
       "      <th>9</th>\n",
       "      <td>9/3/2023 10:00</td>\n",
       "      <td>User_10</td>\n",
       "      <td>10</td>\n",
       "      <td>-75</td>\n",
       "      <td>45.0</td>\n",
       "      <td>2.00</td>\n",
       "      <td>2.000</td>\n",
       "      <td>70</td>\n",
       "    </tr>\n",
       "  </tbody>\n",
       "</table>\n",
       "</div>"
      ],
      "text/plain": [
       "        Timestamp  User_ID  Application_Type  Signal_Strength  Latency  \\\n",
       "0  9/3/2023 10:00   User_1                 1              -75     30.0   \n",
       "1  9/3/2023 10:00   User_2                 2              -80     20.0   \n",
       "2  9/3/2023 10:00   User_3                 3              -85     40.0   \n",
       "3  9/3/2023 10:00   User_4                 4              -70     10.0   \n",
       "4  9/3/2023 10:00   User_5                 5              -78     25.0   \n",
       "5  9/3/2023 10:00   User_6                 6              -90     50.0   \n",
       "6  9/3/2023 10:00   User_7                 7              -88     30.0   \n",
       "7  9/3/2023 10:00   User_8                 8              -95    100.0   \n",
       "8  9/3/2023 10:00   User_9                 9              -82     35.0   \n",
       "9  9/3/2023 10:00  User_10                10              -75     45.0   \n",
       "\n",
       "   Required_Bandwidth  Allocated_Bandwidth  Resource_Allocation  \n",
       "0               10.00               15.000                   70  \n",
       "1                0.10                0.120                   80  \n",
       "2                5.00                6.000                   75  \n",
       "3                1.00                1.500                   90  \n",
       "4                2.00                3.000                   85  \n",
       "5                0.50                0.550                   70  \n",
       "6                1.00                1.000                   60  \n",
       "7                0.01                0.015                   50  \n",
       "8                3.00                3.500                   80  \n",
       "9                2.00                2.000                   70  "
      ]
     },
     "execution_count": 16,
     "metadata": {},
     "output_type": "execute_result"
    }
   ],
   "source": [
    "data.head(10)"
   ]
  },
  {
   "cell_type": "code",
   "execution_count": 17,
   "id": "e31a8418",
   "metadata": {},
   "outputs": [],
   "source": [
    "data=data.drop(columns=['Timestamp'])"
   ]
  },
  {
   "cell_type": "code",
   "execution_count": 18,
   "id": "37bf351c",
   "metadata": {},
   "outputs": [],
   "source": [
    "data.set_index('User_ID',inplace=True)"
   ]
  },
  {
   "cell_type": "code",
   "execution_count": 19,
   "id": "54ecebc8",
   "metadata": {},
   "outputs": [
    {
     "data": {
      "text/html": [
       "<div>\n",
       "<style scoped>\n",
       "    .dataframe tbody tr th:only-of-type {\n",
       "        vertical-align: middle;\n",
       "    }\n",
       "\n",
       "    .dataframe tbody tr th {\n",
       "        vertical-align: top;\n",
       "    }\n",
       "\n",
       "    .dataframe thead th {\n",
       "        text-align: right;\n",
       "    }\n",
       "</style>\n",
       "<table border=\"1\" class=\"dataframe\">\n",
       "  <thead>\n",
       "    <tr style=\"text-align: right;\">\n",
       "      <th></th>\n",
       "      <th>Application_Type</th>\n",
       "      <th>Signal_Strength</th>\n",
       "      <th>Latency</th>\n",
       "      <th>Required_Bandwidth</th>\n",
       "      <th>Allocated_Bandwidth</th>\n",
       "      <th>Resource_Allocation</th>\n",
       "    </tr>\n",
       "    <tr>\n",
       "      <th>User_ID</th>\n",
       "      <th></th>\n",
       "      <th></th>\n",
       "      <th></th>\n",
       "      <th></th>\n",
       "      <th></th>\n",
       "      <th></th>\n",
       "    </tr>\n",
       "  </thead>\n",
       "  <tbody>\n",
       "    <tr>\n",
       "      <th>User_1</th>\n",
       "      <td>1</td>\n",
       "      <td>-75</td>\n",
       "      <td>30.0</td>\n",
       "      <td>10.0</td>\n",
       "      <td>15.00</td>\n",
       "      <td>70</td>\n",
       "    </tr>\n",
       "    <tr>\n",
       "      <th>User_2</th>\n",
       "      <td>2</td>\n",
       "      <td>-80</td>\n",
       "      <td>20.0</td>\n",
       "      <td>0.1</td>\n",
       "      <td>0.12</td>\n",
       "      <td>80</td>\n",
       "    </tr>\n",
       "    <tr>\n",
       "      <th>User_3</th>\n",
       "      <td>3</td>\n",
       "      <td>-85</td>\n",
       "      <td>40.0</td>\n",
       "      <td>5.0</td>\n",
       "      <td>6.00</td>\n",
       "      <td>75</td>\n",
       "    </tr>\n",
       "    <tr>\n",
       "      <th>User_4</th>\n",
       "      <td>4</td>\n",
       "      <td>-70</td>\n",
       "      <td>10.0</td>\n",
       "      <td>1.0</td>\n",
       "      <td>1.50</td>\n",
       "      <td>90</td>\n",
       "    </tr>\n",
       "    <tr>\n",
       "      <th>User_5</th>\n",
       "      <td>5</td>\n",
       "      <td>-78</td>\n",
       "      <td>25.0</td>\n",
       "      <td>2.0</td>\n",
       "      <td>3.00</td>\n",
       "      <td>85</td>\n",
       "    </tr>\n",
       "    <tr>\n",
       "      <th>...</th>\n",
       "      <td>...</td>\n",
       "      <td>...</td>\n",
       "      <td>...</td>\n",
       "      <td>...</td>\n",
       "      <td>...</td>\n",
       "      <td>...</td>\n",
       "    </tr>\n",
       "    <tr>\n",
       "      <th>User_396</th>\n",
       "      <td>3</td>\n",
       "      <td>-110</td>\n",
       "      <td>61.0</td>\n",
       "      <td>1.3</td>\n",
       "      <td>1.80</td>\n",
       "      <td>85</td>\n",
       "    </tr>\n",
       "    <tr>\n",
       "      <th>User_397</th>\n",
       "      <td>1</td>\n",
       "      <td>-40</td>\n",
       "      <td>53.0</td>\n",
       "      <td>14.5</td>\n",
       "      <td>15.80</td>\n",
       "      <td>75</td>\n",
       "    </tr>\n",
       "    <tr>\n",
       "      <th>User_398</th>\n",
       "      <td>9</td>\n",
       "      <td>-113</td>\n",
       "      <td>58.0</td>\n",
       "      <td>1.0</td>\n",
       "      <td>1.40</td>\n",
       "      <td>70</td>\n",
       "    </tr>\n",
       "    <tr>\n",
       "      <th>User_399</th>\n",
       "      <td>4</td>\n",
       "      <td>-40</td>\n",
       "      <td>5.0</td>\n",
       "      <td>0.4</td>\n",
       "      <td>0.40</td>\n",
       "      <td>70</td>\n",
       "    </tr>\n",
       "    <tr>\n",
       "      <th>User_400</th>\n",
       "      <td>7</td>\n",
       "      <td>-113</td>\n",
       "      <td>0.0</td>\n",
       "      <td>0.1</td>\n",
       "      <td>0.10</td>\n",
       "      <td>70</td>\n",
       "    </tr>\n",
       "  </tbody>\n",
       "</table>\n",
       "<p>400 rows × 6 columns</p>\n",
       "</div>"
      ],
      "text/plain": [
       "          Application_Type  Signal_Strength  Latency  Required_Bandwidth  \\\n",
       "User_ID                                                                    \n",
       "User_1                   1              -75     30.0                10.0   \n",
       "User_2                   2              -80     20.0                 0.1   \n",
       "User_3                   3              -85     40.0                 5.0   \n",
       "User_4                   4              -70     10.0                 1.0   \n",
       "User_5                   5              -78     25.0                 2.0   \n",
       "...                    ...              ...      ...                 ...   \n",
       "User_396                 3             -110     61.0                 1.3   \n",
       "User_397                 1              -40     53.0                14.5   \n",
       "User_398                 9             -113     58.0                 1.0   \n",
       "User_399                 4              -40      5.0                 0.4   \n",
       "User_400                 7             -113      0.0                 0.1   \n",
       "\n",
       "          Allocated_Bandwidth  Resource_Allocation  \n",
       "User_ID                                             \n",
       "User_1                  15.00                   70  \n",
       "User_2                   0.12                   80  \n",
       "User_3                   6.00                   75  \n",
       "User_4                   1.50                   90  \n",
       "User_5                   3.00                   85  \n",
       "...                       ...                  ...  \n",
       "User_396                 1.80                   85  \n",
       "User_397                15.80                   75  \n",
       "User_398                 1.40                   70  \n",
       "User_399                 0.40                   70  \n",
       "User_400                 0.10                   70  \n",
       "\n",
       "[400 rows x 6 columns]"
      ]
     },
     "execution_count": 19,
     "metadata": {},
     "output_type": "execute_result"
    }
   ],
   "source": [
    "data"
   ]
  },
  {
   "cell_type": "code",
   "execution_count": 20,
   "id": "a11519bf",
   "metadata": {},
   "outputs": [
    {
     "data": {
      "text/html": [
       "<div>\n",
       "<style scoped>\n",
       "    .dataframe tbody tr th:only-of-type {\n",
       "        vertical-align: middle;\n",
       "    }\n",
       "\n",
       "    .dataframe tbody tr th {\n",
       "        vertical-align: top;\n",
       "    }\n",
       "\n",
       "    .dataframe thead th {\n",
       "        text-align: right;\n",
       "    }\n",
       "</style>\n",
       "<table border=\"1\" class=\"dataframe\">\n",
       "  <thead>\n",
       "    <tr style=\"text-align: right;\">\n",
       "      <th></th>\n",
       "      <th>Application_Type</th>\n",
       "      <th>Signal_Strength</th>\n",
       "      <th>Latency</th>\n",
       "      <th>Required_Bandwidth</th>\n",
       "      <th>Allocated_Bandwidth</th>\n",
       "      <th>Resource_Allocation</th>\n",
       "    </tr>\n",
       "  </thead>\n",
       "  <tbody>\n",
       "    <tr>\n",
       "      <th>count</th>\n",
       "      <td>400.000000</td>\n",
       "      <td>400.000000</td>\n",
       "      <td>400.000000</td>\n",
       "      <td>400.000000</td>\n",
       "      <td>400.000000</td>\n",
       "      <td>400.000000</td>\n",
       "    </tr>\n",
       "    <tr>\n",
       "      <th>mean</th>\n",
       "      <td>5.572500</td>\n",
       "      <td>-80.495000</td>\n",
       "      <td>33.825000</td>\n",
       "      <td>3.135512</td>\n",
       "      <td>3.502380</td>\n",
       "      <td>74.712500</td>\n",
       "    </tr>\n",
       "    <tr>\n",
       "      <th>std</th>\n",
       "      <td>2.886273</td>\n",
       "      <td>20.701119</td>\n",
       "      <td>21.122139</td>\n",
       "      <td>3.984097</td>\n",
       "      <td>4.460801</td>\n",
       "      <td>8.982291</td>\n",
       "    </tr>\n",
       "    <tr>\n",
       "      <th>min</th>\n",
       "      <td>1.000000</td>\n",
       "      <td>-123.000000</td>\n",
       "      <td>0.000000</td>\n",
       "      <td>0.000000</td>\n",
       "      <td>0.000000</td>\n",
       "      <td>50.000000</td>\n",
       "    </tr>\n",
       "    <tr>\n",
       "      <th>25%</th>\n",
       "      <td>3.000000</td>\n",
       "      <td>-98.000000</td>\n",
       "      <td>21.750000</td>\n",
       "      <td>0.417500</td>\n",
       "      <td>0.417500</td>\n",
       "      <td>70.000000</td>\n",
       "    </tr>\n",
       "    <tr>\n",
       "      <th>50%</th>\n",
       "      <td>6.000000</td>\n",
       "      <td>-83.000000</td>\n",
       "      <td>31.000000</td>\n",
       "      <td>1.200000</td>\n",
       "      <td>1.350000</td>\n",
       "      <td>70.000000</td>\n",
       "    </tr>\n",
       "    <tr>\n",
       "      <th>75%</th>\n",
       "      <td>8.000000</td>\n",
       "      <td>-64.000000</td>\n",
       "      <td>45.000000</td>\n",
       "      <td>4.100000</td>\n",
       "      <td>4.425000</td>\n",
       "      <td>80.000000</td>\n",
       "    </tr>\n",
       "    <tr>\n",
       "      <th>max</th>\n",
       "      <td>10.000000</td>\n",
       "      <td>-40.000000</td>\n",
       "      <td>110.000000</td>\n",
       "      <td>14.500000</td>\n",
       "      <td>15.800000</td>\n",
       "      <td>90.000000</td>\n",
       "    </tr>\n",
       "  </tbody>\n",
       "</table>\n",
       "</div>"
      ],
      "text/plain": [
       "       Application_Type  Signal_Strength     Latency  Required_Bandwidth  \\\n",
       "count        400.000000       400.000000  400.000000          400.000000   \n",
       "mean           5.572500       -80.495000   33.825000            3.135512   \n",
       "std            2.886273        20.701119   21.122139            3.984097   \n",
       "min            1.000000      -123.000000    0.000000            0.000000   \n",
       "25%            3.000000       -98.000000   21.750000            0.417500   \n",
       "50%            6.000000       -83.000000   31.000000            1.200000   \n",
       "75%            8.000000       -64.000000   45.000000            4.100000   \n",
       "max           10.000000       -40.000000  110.000000           14.500000   \n",
       "\n",
       "       Allocated_Bandwidth  Resource_Allocation  \n",
       "count           400.000000           400.000000  \n",
       "mean              3.502380            74.712500  \n",
       "std               4.460801             8.982291  \n",
       "min               0.000000            50.000000  \n",
       "25%               0.417500            70.000000  \n",
       "50%               1.350000            70.000000  \n",
       "75%               4.425000            80.000000  \n",
       "max              15.800000            90.000000  "
      ]
     },
     "execution_count": 20,
     "metadata": {},
     "output_type": "execute_result"
    }
   ],
   "source": [
    "data.describe()"
   ]
  },
  {
   "cell_type": "code",
   "execution_count": 21,
   "id": "6a542d5a",
   "metadata": {},
   "outputs": [],
   "source": [
    "import numpy as np\n",
    "import seaborn as sns\n",
    "import matplotlib.pyplot as plot"
   ]
  },
  {
   "cell_type": "code",
   "execution_count": 22,
   "id": "99c9ccc2",
   "metadata": {},
   "outputs": [
    {
     "data": {
      "text/plain": [
       "<seaborn.axisgrid.FacetGrid at 0x1ed2d6cb1d0>"
      ]
     },
     "execution_count": 22,
     "metadata": {},
     "output_type": "execute_result"
    },
    {
     "data": {
      "image/png": "[encoded data removed]",
      "text/plain": [
       "<Figure size 500x500 with 1 Axes>"
      ]
     },
     "metadata": {},
     "output_type": "display_data"
    }
   ],
   "source": [
    "sns.catplot(x='Signal_Strength',y='Latency',data=data)"
   ]
  },
  {
   "cell_type": "code",
   "execution_count": 23,
   "id": "66e040ec",
   "metadata": {},
   "outputs": [
    {
     "data": {
      "image/png": "[encoded data removed]",
      "text/plain": [
       "<Figure size 640x480 with 1 Axes>"
      ]
     },
     "metadata": {},
     "output_type": "display_data"
    }
   ],
   "source": [
    "sns.boxplot(data=data)\n",
    "plot.show()"
   ]
  },
  {
   "cell_type": "code",
   "execution_count": 24,
   "id": "0a5d6c64",
   "metadata": {},
   "outputs": [
    {
     "data": {
      "image/png": "[encoded data removed]",
      "text/plain": [
       "<Figure size 640x480 with 1 Axes>"
      ]
     },
     "metadata": {},
     "output_type": "display_data"
    }
   ],
   "source": [
    "sns.countplot(x=data['Application_Type'])\n",
    "plot.show()"
   ]
  },
  {
   "cell_type": "code",
   "execution_count": 25,
   "id": "593e7b89",
   "metadata": {},
   "outputs": [],
   "source": [
    "correlation_matrix = data.corr()"
   ]
  },
  {
   "cell_type": "code",
   "execution_count": 26,
   "id": "2ad4ca38",
   "metadata": {},
   "outputs": [
    {
     "data": {
      "image/png": "[encoded data removed]",
      "text/plain": [
       "<Figure size 800x800 with 2 Axes>"
      ]
     },
     "metadata": {},
     "output_type": "display_data"
    }
   ],
   "source": [
    "plot.figure(figsize=(8,8))\n",
    "sns.heatmap(correlation_matrix,annot = True,cmap='coolwarm',fmt=\".2f\")\n",
    "plot.title('Correlation Matrix')\n",
    "plot.show()"
   ]
  },
  {
   "cell_type": "code",
   "execution_count": 27,
   "id": "6087adf5",
   "metadata": {},
   "outputs": [],
   "source": [
    "from sklearn.preprocessing import MinMaxScaler\n",
    "from sklearn.model_selection import train_test_split\n",
    "from sklearn.linear_model import LogisticRegression\n",
    "from sklearn.tree import DecisionTreeClassifier\n",
    "#from imblearn.over_sampling import SMOTE\n",
    "from sklearn.metrics import accuracy_score,confusion_matrix,classification_report"
   ]
  },
  {
   "cell_type": "code",
   "execution_count": 28,
   "id": "e75297b3",
   "metadata": {},
   "outputs": [],
   "source": [
    "x =data.drop(columns =['Resource_Allocation'])\n",
    "y= data['Resource_Allocation']"
   ]
  },
  {
   "cell_type": "code",
   "execution_count": 29,
   "id": "be9bad14",
   "metadata": {},
   "outputs": [],
   "source": [
    "x_train,x_test,y_train,y_test=train_test_split(x,y,test_size=0.2,random_state=42)"
   ]
  },
  {
   "cell_type": "code",
   "execution_count": 30,
   "id": "e3ce28eb",
   "metadata": {},
   "outputs": [
    {
     "data": {
      "text/html": [
       "<div>\n",
       "<style scoped>\n",
       "    .dataframe tbody tr th:only-of-type {\n",
       "        vertical-align: middle;\n",
       "    }\n",
       "\n",
       "    .dataframe tbody tr th {\n",
       "        vertical-align: top;\n",
       "    }\n",
       "\n",
       "    .dataframe thead th {\n",
       "        text-align: right;\n",
       "    }\n",
       "</style>\n",
       "<table border=\"1\" class=\"dataframe\">\n",
       "  <thead>\n",
       "    <tr style=\"text-align: right;\">\n",
       "      <th></th>\n",
       "      <th>Application_Type</th>\n",
       "      <th>Signal_Strength</th>\n",
       "      <th>Latency</th>\n",
       "      <th>Required_Bandwidth</th>\n",
       "      <th>Allocated_Bandwidth</th>\n",
       "    </tr>\n",
       "    <tr>\n",
       "      <th>User_ID</th>\n",
       "      <th></th>\n",
       "      <th></th>\n",
       "      <th></th>\n",
       "      <th></th>\n",
       "      <th></th>\n",
       "    </tr>\n",
       "  </thead>\n",
       "  <tbody>\n",
       "    <tr>\n",
       "      <th>User_4</th>\n",
       "      <td>4</td>\n",
       "      <td>-70</td>\n",
       "      <td>10.0</td>\n",
       "      <td>1.000</td>\n",
       "      <td>1.500</td>\n",
       "    </tr>\n",
       "    <tr>\n",
       "      <th>User_19</th>\n",
       "      <td>8</td>\n",
       "      <td>-96</td>\n",
       "      <td>105.0</td>\n",
       "      <td>0.008</td>\n",
       "      <td>0.009</td>\n",
       "    </tr>\n",
       "    <tr>\n",
       "      <th>User_203</th>\n",
       "      <td>5</td>\n",
       "      <td>-65</td>\n",
       "      <td>23.0</td>\n",
       "      <td>3.900</td>\n",
       "      <td>4.200</td>\n",
       "    </tr>\n",
       "    <tr>\n",
       "      <th>User_251</th>\n",
       "      <td>5</td>\n",
       "      <td>-59</td>\n",
       "      <td>29.0</td>\n",
       "      <td>4.500</td>\n",
       "      <td>4.800</td>\n",
       "    </tr>\n",
       "    <tr>\n",
       "      <th>User_275</th>\n",
       "      <td>5</td>\n",
       "      <td>-56</td>\n",
       "      <td>32.0</td>\n",
       "      <td>4.800</td>\n",
       "      <td>5.100</td>\n",
       "    </tr>\n",
       "    <tr>\n",
       "      <th>...</th>\n",
       "      <td>...</td>\n",
       "      <td>...</td>\n",
       "      <td>...</td>\n",
       "      <td>...</td>\n",
       "      <td>...</td>\n",
       "    </tr>\n",
       "    <tr>\n",
       "      <th>User_72</th>\n",
       "      <td>5</td>\n",
       "      <td>-75</td>\n",
       "      <td>22.0</td>\n",
       "      <td>2.800</td>\n",
       "      <td>3.100</td>\n",
       "    </tr>\n",
       "    <tr>\n",
       "      <th>User_107</th>\n",
       "      <td>6</td>\n",
       "      <td>-97</td>\n",
       "      <td>44.0</td>\n",
       "      <td>0.670</td>\n",
       "      <td>0.670</td>\n",
       "    </tr>\n",
       "    <tr>\n",
       "      <th>User_271</th>\n",
       "      <td>4</td>\n",
       "      <td>-49</td>\n",
       "      <td>5.0</td>\n",
       "      <td>0.600</td>\n",
       "      <td>0.600</td>\n",
       "    </tr>\n",
       "    <tr>\n",
       "      <th>User_349</th>\n",
       "      <td>1</td>\n",
       "      <td>-44</td>\n",
       "      <td>47.0</td>\n",
       "      <td>13.900</td>\n",
       "      <td>15.200</td>\n",
       "    </tr>\n",
       "    <tr>\n",
       "      <th>User_103</th>\n",
       "      <td>7</td>\n",
       "      <td>-92</td>\n",
       "      <td>25.0</td>\n",
       "      <td>0.800</td>\n",
       "      <td>0.800</td>\n",
       "    </tr>\n",
       "  </tbody>\n",
       "</table>\n",
       "<p>320 rows × 5 columns</p>\n",
       "</div>"
      ],
      "text/plain": [
       "          Application_Type  Signal_Strength  Latency  Required_Bandwidth  \\\n",
       "User_ID                                                                    \n",
       "User_4                   4              -70     10.0               1.000   \n",
       "User_19                  8              -96    105.0               0.008   \n",
       "User_203                 5              -65     23.0               3.900   \n",
       "User_251                 5              -59     29.0               4.500   \n",
       "User_275                 5              -56     32.0               4.800   \n",
       "...                    ...              ...      ...                 ...   \n",
       "User_72                  5              -75     22.0               2.800   \n",
       "User_107                 6              -97     44.0               0.670   \n",
       "User_271                 4              -49      5.0               0.600   \n",
       "User_349                 1              -44     47.0              13.900   \n",
       "User_103                 7              -92     25.0               0.800   \n",
       "\n",
       "          Allocated_Bandwidth  \n",
       "User_ID                        \n",
       "User_4                  1.500  \n",
       "User_19                 0.009  \n",
       "User_203                4.200  \n",
       "User_251                4.800  \n",
       "User_275                5.100  \n",
       "...                       ...  \n",
       "User_72                 3.100  \n",
       "User_107                0.670  \n",
       "User_271                0.600  \n",
       "User_349               15.200  \n",
       "User_103                0.800  \n",
       "\n",
       "[320 rows x 5 columns]"
      ]
     },
     "execution_count": 30,
     "metadata": {},
     "output_type": "execute_result"
    }
   ],
   "source": [
    "(x_train)"
   ]
  },
  {
   "cell_type": "code",
   "execution_count": 31,
   "id": "be85121f",
   "metadata": {},
   "outputs": [
    {
     "data": {
      "text/plain": [
       "User_ID\n",
       "User_4      90\n",
       "User_19     70\n",
       "User_203    80\n",
       "User_251    80\n",
       "User_275    80\n",
       "            ..\n",
       "User_72     80\n",
       "User_107    60\n",
       "User_271    70\n",
       "User_349    75\n",
       "User_103    70\n",
       "Name: Resource_Allocation, Length: 320, dtype: int64"
      ]
     },
     "execution_count": 31,
     "metadata": {},
     "output_type": "execute_result"
    }
   ],
   "source": [
    "(y_train)"
   ]
  },
  {
   "cell_type": "code",
   "execution_count": 32,
   "id": "0f663923",
   "metadata": {},
   "outputs": [
    {
     "data": {
      "text/html": [
       "<div>\n",
       "<style scoped>\n",
       "    .dataframe tbody tr th:only-of-type {\n",
       "        vertical-align: middle;\n",
       "    }\n",
       "\n",
       "    .dataframe tbody tr th {\n",
       "        vertical-align: top;\n",
       "    }\n",
       "\n",
       "    .dataframe thead th {\n",
       "        text-align: right;\n",
       "    }\n",
       "</style>\n",
       "<table border=\"1\" class=\"dataframe\">\n",
       "  <thead>\n",
       "    <tr style=\"text-align: right;\">\n",
       "      <th></th>\n",
       "      <th>Application_Type</th>\n",
       "      <th>Signal_Strength</th>\n",
       "      <th>Latency</th>\n",
       "      <th>Required_Bandwidth</th>\n",
       "      <th>Allocated_Bandwidth</th>\n",
       "    </tr>\n",
       "    <tr>\n",
       "      <th>User_ID</th>\n",
       "      <th></th>\n",
       "      <th></th>\n",
       "      <th></th>\n",
       "      <th></th>\n",
       "      <th></th>\n",
       "    </tr>\n",
       "  </thead>\n",
       "  <tbody>\n",
       "    <tr>\n",
       "      <th>User_210</th>\n",
       "      <td>10</td>\n",
       "      <td>-79</td>\n",
       "      <td>29.0</td>\n",
       "      <td>0.085</td>\n",
       "      <td>0.110</td>\n",
       "    </tr>\n",
       "    <tr>\n",
       "      <th>User_281</th>\n",
       "      <td>6</td>\n",
       "      <td>-109</td>\n",
       "      <td>64.0</td>\n",
       "      <td>0.490</td>\n",
       "      <td>0.490</td>\n",
       "    </tr>\n",
       "    <tr>\n",
       "      <th>User_34</th>\n",
       "      <td>10</td>\n",
       "      <td>-83</td>\n",
       "      <td>20.0</td>\n",
       "      <td>0.170</td>\n",
       "      <td>0.190</td>\n",
       "    </tr>\n",
       "    <tr>\n",
       "      <th>User_211</th>\n",
       "      <td>5</td>\n",
       "      <td>-64</td>\n",
       "      <td>24.0</td>\n",
       "      <td>4.000</td>\n",
       "      <td>4.300</td>\n",
       "    </tr>\n",
       "    <tr>\n",
       "      <th>User_94</th>\n",
       "      <td>10</td>\n",
       "      <td>-89</td>\n",
       "      <td>17.0</td>\n",
       "      <td>0.140</td>\n",
       "      <td>0.165</td>\n",
       "    </tr>\n",
       "    <tr>\n",
       "      <th>...</th>\n",
       "      <td>...</td>\n",
       "      <td>...</td>\n",
       "      <td>...</td>\n",
       "      <td>...</td>\n",
       "      <td>...</td>\n",
       "    </tr>\n",
       "    <tr>\n",
       "      <th>User_247</th>\n",
       "      <td>4</td>\n",
       "      <td>-51</td>\n",
       "      <td>5.0</td>\n",
       "      <td>0.600</td>\n",
       "      <td>0.600</td>\n",
       "    </tr>\n",
       "    <tr>\n",
       "      <th>User_228</th>\n",
       "      <td>3</td>\n",
       "      <td>-89</td>\n",
       "      <td>40.0</td>\n",
       "      <td>3.400</td>\n",
       "      <td>3.900</td>\n",
       "    </tr>\n",
       "    <tr>\n",
       "      <th>User_370</th>\n",
       "      <td>10</td>\n",
       "      <td>-59</td>\n",
       "      <td>49.0</td>\n",
       "      <td>0.000</td>\n",
       "      <td>0.010</td>\n",
       "    </tr>\n",
       "    <tr>\n",
       "      <th>User_177</th>\n",
       "      <td>6</td>\n",
       "      <td>-98</td>\n",
       "      <td>51.0</td>\n",
       "      <td>0.620</td>\n",
       "      <td>0.620</td>\n",
       "    </tr>\n",
       "    <tr>\n",
       "      <th>User_290</th>\n",
       "      <td>10</td>\n",
       "      <td>-69</td>\n",
       "      <td>39.0</td>\n",
       "      <td>0.035</td>\n",
       "      <td>0.060</td>\n",
       "    </tr>\n",
       "  </tbody>\n",
       "</table>\n",
       "<p>80 rows × 5 columns</p>\n",
       "</div>"
      ],
      "text/plain": [
       "          Application_Type  Signal_Strength  Latency  Required_Bandwidth  \\\n",
       "User_ID                                                                    \n",
       "User_210                10              -79     29.0               0.085   \n",
       "User_281                 6             -109     64.0               0.490   \n",
       "User_34                 10              -83     20.0               0.170   \n",
       "User_211                 5              -64     24.0               4.000   \n",
       "User_94                 10              -89     17.0               0.140   \n",
       "...                    ...              ...      ...                 ...   \n",
       "User_247                 4              -51      5.0               0.600   \n",
       "User_228                 3              -89     40.0               3.400   \n",
       "User_370                10              -59     49.0               0.000   \n",
       "User_177                 6              -98     51.0               0.620   \n",
       "User_290                10              -69     39.0               0.035   \n",
       "\n",
       "          Allocated_Bandwidth  \n",
       "User_ID                        \n",
       "User_210                0.110  \n",
       "User_281                0.490  \n",
       "User_34                 0.190  \n",
       "User_211                4.300  \n",
       "User_94                 0.165  \n",
       "...                       ...  \n",
       "User_247                0.600  \n",
       "User_228                3.900  \n",
       "User_370                0.010  \n",
       "User_177                0.620  \n",
       "User_290                0.060  \n",
       "\n",
       "[80 rows x 5 columns]"
      ]
     },
     "execution_count": 32,
     "metadata": {},
     "output_type": "execute_result"
    }
   ],
   "source": [
    "(x_test)"
   ]
  },
  {
   "cell_type": "code",
   "execution_count": 33,
   "id": "9d5e7310",
   "metadata": {},
   "outputs": [
    {
     "data": {
      "text/plain": [
       "User_ID\n",
       "User_210    90\n",
       "User_281    60\n",
       "User_34     90\n",
       "User_211    80\n",
       "User_94     90\n",
       "            ..\n",
       "User_247    70\n",
       "User_228    85\n",
       "User_370    90\n",
       "User_177    60\n",
       "User_290    90\n",
       "Name: Resource_Allocation, Length: 80, dtype: int64"
      ]
     },
     "execution_count": 33,
     "metadata": {},
     "output_type": "execute_result"
    }
   ],
   "source": [
    "(y_test)"
   ]
  },
  {
   "cell_type": "code",
   "execution_count": 34,
   "id": "621616df",
   "metadata": {},
   "outputs": [],
   "source": [
    "from sklearn.ensemble import RandomForestRegressor\n",
    "from sklearn.metrics import mean_absolute_error, mean_squared_error\n",
    "from sklearn.metrics import r2_score"
   ]
  },
  {
   "cell_type": "code",
   "execution_count": 35,
   "id": "690e6643",
   "metadata": {},
   "outputs": [
    {
     "data": {
      "text/plain": [
       "0.8937720119477509"
      ]
     },
     "execution_count": 35,
     "metadata": {},
     "output_type": "execute_result"
    }
   ],
   "source": [
    "model = RandomForestRegressor()\n",
    "train = model.fit(x_train,y_train)\n",
    "test = model.predict(x_test)\n",
    "result = r2_score(y_test,test)\n",
    "result"
   ]
  },
  {
   "cell_type": "code",
   "execution_count": 36,
   "id": "473d8f12",
   "metadata": {},
   "outputs": [],
   "source": [
    "from sklearn.linear_model import LinearRegression\n",
    "from sklearn.metrics import r2_score"
   ]
  },
  {
   "cell_type": "code",
   "execution_count": 37,
   "id": "a6065648",
   "metadata": {},
   "outputs": [
    {
     "data": {
      "text/plain": [
       "-0.17975676466307378"
      ]
     },
     "execution_count": 37,
     "metadata": {},
     "output_type": "execute_result"
    }
   ],
   "source": [
    "model = LinearRegression()\n",
    "train =model.fit(x_train,y_train)\n",
    "test = model.predict(x_test)\n",
    "result = r2_score(y_test,test)\n",
    "result"
   ]
  },
  {
   "cell_type": "code",
   "execution_count": 38,
   "id": "63f3bef0",
   "metadata": {},
   "outputs": [
    {
     "data": {
      "text/plain": [
       "0.8787392447951495"
      ]
     },
     "execution_count": 38,
     "metadata": {},
     "output_type": "execute_result"
    }
   ],
   "source": [
    "from sklearn.tree import DecisionTreeRegressor\n",
    "model = DecisionTreeRegressor(random_state=42)\n",
    "tree = model.fit(x_train,y_train)\n",
    "test=model.predict(x_test)\n",
    "result = r2_score(y_test,test)\n",
    "result"
   ]
  },
  {
   "cell_type": "code",
   "execution_count": 39,
   "id": "5e61d028",
   "metadata": {},
   "outputs": [],
   "source": [
    "from sklearn.model_selection import GridSearchCV\n"
   ]
  },
  {
   "cell_type": "code",
   "execution_count": 40,
   "id": "89d9b92e",
   "metadata": {},
   "outputs": [],
   "source": [
    "param_grid_rf={\n",
    "    'n_estimators':[50,100,200],\n",
    "    'max_depth':[None,5,10],\n",
    "    'min_samples_split':[2,5,10]\n",
    "}"
   ]
  },
  {
   "cell_type": "code",
   "execution_count": 41,
   "id": "28b560e3",
   "metadata": {},
   "outputs": [],
   "source": [
    "param_grid_lr ={\n",
    "    'fit_intercept': [True, False]\n",
    "}"
   ]
  },
  {
   "cell_type": "code",
   "execution_count": 42,
   "id": "b9f5d910",
   "metadata": {},
   "outputs": [],
   "source": [
    "param_grid_dt={\n",
    "    'max_depth':[None,5,10],\n",
    "    'min_samples_split':[2,5,10]\n",
    "}"
   ]
  },
  {
   "cell_type": "code",
   "execution_count": 43,
   "id": "06a85108",
   "metadata": {},
   "outputs": [],
   "source": [
    "rf_regressor = RandomForestRegressor(random_state=42)\n",
    "lr_model = LinearRegression()\n",
    "dt_regressor = DecisionTreeRegressor(random_state=42)"
   ]
  },
  {
   "cell_type": "code",
   "execution_count": 44,
   "id": "c6c2eda7",
   "metadata": {},
   "outputs": [],
   "source": [
    "grid_search_rf = GridSearchCV(estimator=rf_regressor,param_grid=param_grid_rf,scoring = 'neg_mean_squared_error',cv=5)\n",
    "grid_search_lr = GridSearchCV(estimator=lr_model,param_grid=param_grid_lr,scoring ='neg_mean_squared_error',cv=5)\n",
    "grid_search_dt = GridSearchCV(estimator=dt_regressor,param_grid=param_grid_dt,scoring='neg_mean_squared_error',cv=5)"
   ]
  },
  {
   "cell_type": "code",
   "execution_count": 45,
   "id": "36d83ee4",
   "metadata": {},
   "outputs": [
    {
     "data": {
      "text/html": [
       "<style>#sk-container-id-1 {color: black;}#sk-container-id-1 pre{padding: 0;}#sk-container-id-1 div.sk-toggleable {background-color: white;}#sk-container-id-1 label.sk-toggleable__label {cursor: pointer;display: block;width: 100%;margin-bottom: 0;padding: 0.3em;box-sizing: border-box;text-align: center;}#sk-container-id-1 label.sk-toggleable__label-arrow:before {content: \"▸\";float: left;margin-right: 0.25em;color: #696969;}#sk-container-id-1 label.sk-toggleable__label-arrow:hover:before {color: black;}#sk-container-id-1 div.sk-estimator:hover label.sk-toggleable__label-arrow:before {color: black;}#sk-container-id-1 div.sk-toggleable__content {max-height: 0;max-width: 0;overflow: hidden;text-align: left;background-color: #f0f8ff;}#sk-container-id-1 div.sk-toggleable__content pre {margin: 0.2em;color: black;border-radius: 0.25em;background-color: #f0f8ff;}#sk-container-id-1 input.sk-toggleable__control:checked~div.sk-toggleable__content {max-height: 200px;max-width: 100%;overflow: auto;}#sk-container-id-1 input.sk-toggleable__control:checked~label.sk-toggleable__label-arrow:before {content: \"▾\";}#sk-container-id-1 div.sk-estimator input.sk-toggleable__control:checked~label.sk-toggleable__label {background-color: #d4ebff;}#sk-container-id-1 div.sk-label input.sk-toggleable__control:checked~label.sk-toggleable__label {background-color: #d4ebff;}#sk-container-id-1 input.sk-hidden--visually {border: 0;clip: rect(1px 1px 1px 1px);clip: rect(1px, 1px, 1px, 1px);height: 1px;margin: -1px;overflow: hidden;padding: 0;position: absolute;width: 1px;}#sk-container-id-1 div.sk-estimator {font-family: monospace;background-color: #f0f8ff;border: 1px dotted black;border-radius: 0.25em;box-sizing: border-box;margin-bottom: 0.5em;}#sk-container-id-1 div.sk-estimator:hover {background-color: #d4ebff;}#sk-container-id-1 div.sk-parallel-item::after {content: \"\";width: 100%;border-bottom: 1px solid gray;flex-grow: 1;}#sk-container-id-1 div.sk-label:hover label.sk-toggleable__label {background-color: #d4ebff;}#sk-container-id-1 div.sk-serial::before {content: \"\";position: absolute;border-left: 1px solid gray;box-sizing: border-box;top: 0;bottom: 0;left: 50%;z-index: 0;}#sk-container-id-1 div.sk-serial {display: flex;flex-direction: column;align-items: center;background-color: white;padding-right: 0.2em;padding-left: 0.2em;position: relative;}#sk-container-id-1 div.sk-item {position: relative;z-index: 1;}#sk-container-id-1 div.sk-parallel {display: flex;align-items: stretch;justify-content: center;background-color: white;position: relative;}#sk-container-id-1 div.sk-item::before, #sk-container-id-1 div.sk-parallel-item::before {content: \"\";position: absolute;border-left: 1px solid gray;box-sizing: border-box;top: 0;bottom: 0;left: 50%;z-index: -1;}#sk-container-id-1 div.sk-parallel-item {display: flex;flex-direction: column;z-index: 1;position: relative;background-color: white;}#sk-container-id-1 div.sk-parallel-item:first-child::after {align-self: flex-end;width: 50%;}#sk-container-id-1 div.sk-parallel-item:last-child::after {align-self: flex-start;width: 50%;}#sk-container-id-1 div.sk-parallel-item:only-child::after {width: 0;}#sk-container-id-1 div.sk-dashed-wrapped {border: 1px dashed gray;margin: 0 0.4em 0.5em 0.4em;box-sizing: border-box;padding-bottom: 0.4em;background-color: white;}#sk-container-id-1 div.sk-label label {font-family: monospace;font-weight: bold;display: inline-block;line-height: 1.2em;}#sk-container-id-1 div.sk-label-container {text-align: center;}#sk-container-id-1 div.sk-container {/* jupyter's `normalize.less` sets `[hidden] { display: none; }` but bootstrap.min.css set `[hidden] { display: none !important; }` so we also need the `!important` here to be able to override the default hidden behavior on the sphinx rendered scikit-learn.org. See: https://github.com/scikit-learn/scikit-learn/issues/21755 */display: inline-block !important;position: relative;}#sk-container-id-1 div.sk-text-repr-fallback {display: none;}</style><div id=\"sk-container-id-1\" class=\"sk-top-container\"><div class=\"sk-text-repr-fallback\"><pre>GridSearchCV(cv=5, estimator=DecisionTreeRegressor(random_state=42),\n",
       "             param_grid={&#x27;max_depth&#x27;: [None, 5, 10],\n",
       "                         &#x27;min_samples_split&#x27;: [2, 5, 10]},\n",
       "             scoring=&#x27;neg_mean_squared_error&#x27;)</pre><b>In a Jupyter environment, please rerun this cell to show the HTML representation or trust the notebook. <br />On GitHub, the HTML representation is unable to render, please try loading this page with nbviewer.org.</b></div><div class=\"sk-container\" hidden><div class=\"sk-item sk-dashed-wrapped\"><div class=\"sk-label-container\"><div class=\"sk-label sk-toggleable\"><input class=\"sk-toggleable__control sk-hidden--visually\" id=\"sk-estimator-id-1\" type=\"checkbox\" ><label for=\"sk-estimator-id-1\" class=\"sk-toggleable__label sk-toggleable__label-arrow\">GridSearchCV</label><div class=\"sk-toggleable__content\"><pre>GridSearchCV(cv=5, estimator=DecisionTreeRegressor(random_state=42),\n",
       "             param_grid={&#x27;max_depth&#x27;: [None, 5, 10],\n",
       "                         &#x27;min_samples_split&#x27;: [2, 5, 10]},\n",
       "             scoring=&#x27;neg_mean_squared_error&#x27;)</pre></div></div></div><div class=\"sk-parallel\"><div class=\"sk-parallel-item\"><div class=\"sk-item\"><div class=\"sk-label-container\"><div class=\"sk-label sk-toggleable\"><input class=\"sk-toggleable__control sk-hidden--visually\" id=\"sk-estimator-id-2\" type=\"checkbox\" ><label for=\"sk-estimator-id-2\" class=\"sk-toggleable__label sk-toggleable__label-arrow\">estimator: DecisionTreeRegressor</label><div class=\"sk-toggleable__content\"><pre>DecisionTreeRegressor(random_state=42)</pre></div></div></div><div class=\"sk-serial\"><div class=\"sk-item\"><div class=\"sk-estimator sk-toggleable\"><input class=\"sk-toggleable__control sk-hidden--visually\" id=\"sk-estimator-id-3\" type=\"checkbox\" ><label for=\"sk-estimator-id-3\" class=\"sk-toggleable__label sk-toggleable__label-arrow\">DecisionTreeRegressor</label><div class=\"sk-toggleable__content\"><pre>DecisionTreeRegressor(random_state=42)</pre></div></div></div></div></div></div></div></div></div></div>"
      ],
      "text/plain": [
       "GridSearchCV(cv=5, estimator=DecisionTreeRegressor(random_state=42),\n",
       "             param_grid={'max_depth': [None, 5, 10],\n",
       "                         'min_samples_split': [2, 5, 10]},\n",
       "             scoring='neg_mean_squared_error')"
      ]
     },
     "execution_count": 45,
     "metadata": {},
     "output_type": "execute_result"
    }
   ],
   "source": [
    "grid_search_rf.fit(x_train,y_train)\n",
    "grid_search_lr.fit(x_train,y_train)\n",
    "grid_search_dt.fit(x_train,y_train)"
   ]
  },
  {
   "cell_type": "code",
   "execution_count": 46,
   "id": "faeaf5db",
   "metadata": {},
   "outputs": [],
   "source": [
    "best_params_rf = grid_search_rf.best_params_\n",
    "best_params_lr = grid_search_lr.best_params_\n",
    "best_params_dt = grid_search_dt.best_params_\n",
    "\n",
    "y_pred_rf = grid_search_rf.best_estimator_.predict(x_test)\n",
    "r2_rf = r2_score(y_test,y_pred_rf)\n",
    "mae_rf = mean_absolute_error(y_test, y_pred_rf)\n",
    "mse_rf = mean_squared_error(y_test, y_pred_rf)\n",
    "\n",
    "y_pred_lr = grid_search_lr.best_estimator_.predict(x_test)\n",
    "r2_lr = r2_score(y_test,y_pred_lr)\n",
    "mae_lr = mean_absolute_error(y_test, y_pred_lr)\n",
    "mse_lr = mean_squared_error(y_test, y_pred_lr)\n",
    "\n",
    "y_pred_dt = grid_search_dt.best_estimator_.predict(x_test)\n",
    "r2_dt = r2_score(y_test,y_pred_dt)\n",
    "mae_dt = mean_absolute_error(y_test, y_pred_dt)\n",
    "mse_dt = mean_squared_error(y_test, y_pred_dt)"
   ]
  },
  {
   "cell_type": "code",
   "execution_count": 47,
   "id": "a9f1a876",
   "metadata": {},
   "outputs": [
    {
     "name": "stdout",
     "output_type": "stream",
     "text": [
      "Best Hyperparameters for Random Forest: {'max_depth': None, 'min_samples_split': 2, 'n_estimators': 200}\n",
      "R-squared (R2) Score for Random Forest: 0.8951\n",
      "MAE for Random Forest: 0.7659\n",
      "MSE for Random Forest: 9.1874\n",
      "\n",
      "Best Hyperparameters for Linear Regression: {'fit_intercept': True}\n",
      "R-squared (R2) Score for Linear Regression: -0.1798\n",
      "MAE for Linear Regression: 7.2875\n",
      "MSE for Linear Regression: 103.3716\n",
      "\n",
      "Best Hyperparameters for Decision Tree: {'max_depth': 10, 'min_samples_split': 2}\n",
      "R-squared (R2) Score for Decision Tree: 0.8787\n",
      "MAE for Decision Tree: 0.8750\n",
      "MSE for Decision Tree: 10.6250\n",
      "\n"
     ]
    }
   ],
   "source": [
    "print(f'Best Hyperparameters for Random Forest: {best_params_rf}')\n",
    "print(f'R-squared (R2) Score for Random Forest: {r2_rf:.4f}')\n",
    "print(f'MAE for Random Forest: {mae_rf:.4f}')\n",
    "print(f'MSE for Random Forest: {mse_rf:.4f}\\n')\n",
    "\n",
    "print(f'Best Hyperparameters for Linear Regression: {best_params_lr}')\n",
    "print(f'R-squared (R2) Score for Linear Regression: {r2_lr:.4f}')\n",
    "print(f'MAE for Linear Regression: {mae_lr:.4f}')\n",
    "print(f'MSE for Linear Regression: {mse_lr:.4f}\\n')\n",
    "\n",
    "print(f'Best Hyperparameters for Decision Tree: {best_params_dt}')\n",
    "print(f'R-squared (R2) Score for Decision Tree: {r2_dt:.4f}')\n",
    "print(f'MAE for Decision Tree: {mae_dt:.4f}')\n",
    "print(f'MSE for Decision Tree: {mse_dt:.4f}\\n')"
   ]
  },
  {
   "cell_type": "code",
   "execution_count": 48,
   "id": "5275dee0",
   "metadata": {},
   "outputs": [],
   "source": [
    "import pickle\n",
    "\n",
    "with open('best_random_forest_model.pkl', 'wb') as file:\n",
    "    pickle.dump(grid_search_rf.best_estimator_, file)\n"
   ]
  },
  {
   "cell_type": "code",
   "execution_count": 50,
   "id": "256ae921",
   "metadata": {},
   "outputs": [
    {
     "data": {
      "text/html": [
       "<style>#sk-container-id-2 {color: black;}#sk-container-id-2 pre{padding: 0;}#sk-container-id-2 div.sk-toggleable {background-color: white;}#sk-container-id-2 label.sk-toggleable__label {cursor: pointer;display: block;width: 100%;margin-bottom: 0;padding: 0.3em;box-sizing: border-box;text-align: center;}#sk-container-id-2 label.sk-toggleable__label-arrow:before {content: \"▸\";float: left;margin-right: 0.25em;color: #696969;}#sk-container-id-2 label.sk-toggleable__label-arrow:hover:before {color: black;}#sk-container-id-2 div.sk-estimator:hover label.sk-toggleable__label-arrow:before {color: black;}#sk-container-id-2 div.sk-toggleable__content {max-height: 0;max-width: 0;overflow: hidden;text-align: left;background-color: #f0f8ff;}#sk-container-id-2 div.sk-toggleable__content pre {margin: 0.2em;color: black;border-radius: 0.25em;background-color: #f0f8ff;}#sk-container-id-2 input.sk-toggleable__control:checked~div.sk-toggleable__content {max-height: 200px;max-width: 100%;overflow: auto;}#sk-container-id-2 input.sk-toggleable__control:checked~label.sk-toggleable__label-arrow:before {content: \"▾\";}#sk-container-id-2 div.sk-estimator input.sk-toggleable__control:checked~label.sk-toggleable__label {background-color: #d4ebff;}#sk-container-id-2 div.sk-label input.sk-toggleable__control:checked~label.sk-toggleable__label {background-color: #d4ebff;}#sk-container-id-2 input.sk-hidden--visually {border: 0;clip: rect(1px 1px 1px 1px);clip: rect(1px, 1px, 1px, 1px);height: 1px;margin: -1px;overflow: hidden;padding: 0;position: absolute;width: 1px;}#sk-container-id-2 div.sk-estimator {font-family: monospace;background-color: #f0f8ff;border: 1px dotted black;border-radius: 0.25em;box-sizing: border-box;margin-bottom: 0.5em;}#sk-container-id-2 div.sk-estimator:hover {background-color: #d4ebff;}#sk-container-id-2 div.sk-parallel-item::after {content: \"\";width: 100%;border-bottom: 1px solid gray;flex-grow: 1;}#sk-container-id-2 div.sk-label:hover label.sk-toggleable__label {background-color: #d4ebff;}#sk-container-id-2 div.sk-serial::before {content: \"\";position: absolute;border-left: 1px solid gray;box-sizing: border-box;top: 0;bottom: 0;left: 50%;z-index: 0;}#sk-container-id-2 div.sk-serial {display: flex;flex-direction: column;align-items: center;background-color: white;padding-right: 0.2em;padding-left: 0.2em;position: relative;}#sk-container-id-2 div.sk-item {position: relative;z-index: 1;}#sk-container-id-2 div.sk-parallel {display: flex;align-items: stretch;justify-content: center;background-color: white;position: relative;}#sk-container-id-2 div.sk-item::before, #sk-container-id-2 div.sk-parallel-item::before {content: \"\";position: absolute;border-left: 1px solid gray;box-sizing: border-box;top: 0;bottom: 0;left: 50%;z-index: -1;}#sk-container-id-2 div.sk-parallel-item {display: flex;flex-direction: column;z-index: 1;position: relative;background-color: white;}#sk-container-id-2 div.sk-parallel-item:first-child::after {align-self: flex-end;width: 50%;}#sk-container-id-2 div.sk-parallel-item:last-child::after {align-self: flex-start;width: 50%;}#sk-container-id-2 div.sk-parallel-item:only-child::after {width: 0;}#sk-container-id-2 div.sk-dashed-wrapped {border: 1px dashed gray;margin: 0 0.4em 0.5em 0.4em;box-sizing: border-box;padding-bottom: 0.4em;background-color: white;}#sk-container-id-2 div.sk-label label {font-family: monospace;font-weight: bold;display: inline-block;line-height: 1.2em;}#sk-container-id-2 div.sk-label-container {text-align: center;}#sk-container-id-2 div.sk-container {/* jupyter's `normalize.less` sets `[hidden] { display: none; }` but bootstrap.min.css set `[hidden] { display: none !important; }` so we also need the `!important` here to be able to override the default hidden behavior on the sphinx rendered scikit-learn.org. See: https://github.com/scikit-learn/scikit-learn/issues/21755 */display: inline-block !important;position: relative;}#sk-container-id-2 div.sk-text-repr-fallback {display: none;}</style><div id=\"sk-container-id-2\" class=\"sk-top-container\"><div class=\"sk-text-repr-fallback\"><pre>RandomForestRegressor(n_estimators=200, random_state=42)</pre><b>In a Jupyter environment, please rerun this cell to show the HTML representation or trust the notebook. <br />On GitHub, the HTML representation is unable to render, please try loading this page with nbviewer.org.</b></div><div class=\"sk-container\" hidden><div class=\"sk-item\"><div class=\"sk-estimator sk-toggleable\"><input class=\"sk-toggleable__control sk-hidden--visually\" id=\"sk-estimator-id-4\" type=\"checkbox\" checked><label for=\"sk-estimator-id-4\" class=\"sk-toggleable__label sk-toggleable__label-arrow\">RandomForestRegressor</label><div class=\"sk-toggleable__content\"><pre>RandomForestRegressor(n_estimators=200, random_state=42)</pre></div></div></div></div></div>"
      ],
      "text/plain": [
       "RandomForestRegressor(n_estimators=200, random_state=42)"
      ]
     },
     "execution_count": 50,
     "metadata": {},
     "output_type": "execute_result"
    }
   ],
   "source": [
    "grid_search_rf.best_estimator_"
   ]
  }
 ],
 "metadata": {
  "kernelspec": {
   "display_name": "Python 3 (ipykernel)",
   "language": "python",
   "name": "python3"
  },
  "language_info": {
   "codemirror_mode": {
    "name": "ipython",
    "version": 3
   },
   "file_extension": ".py",
   "mimetype": "text/x-python",
   "name": "python",
   "nbconvert_exporter": "python",
   "pygments_lexer": "ipython3",
   "version": "3.11.6"
  }
 },
 "nbformat": 4,
 "nbformat_minor": 5
}
